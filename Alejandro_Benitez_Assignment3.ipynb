{
 "cells": [
  {
   "cell_type": "code",
   "execution_count": null,
   "metadata": {},
   "outputs": [],
   "source": [
    "import os\n",
    "import sqlite3\n",
    "con = sqlite3.connect('database.sqlite')\n",
    "cursorObj = con.cursor()"
   ]
  },
  {
   "cell_type": "markdown",
   "metadata": {},
   "source": [
    "Question 1 (20 points) : Write a SQL query that lists all the players born between 1987 and 1990\n",
    "inclusive, sort them from the oldest to the youngest. The output of this query should be of the form:\n",
    "Player Name | Birthday"
   ]
  },
  {
   "cell_type": "code",
   "execution_count": null,
   "metadata": {},
   "outputs": [],
   "source": [
    "cursorObj.execute(\"SELECT player_name as [Player Name], Date(birthday) as Birthday FROM Player WHERE Birthday >= 1987 and Birthday <= 1990 ORDER BY Birthday;\")\n",
    "\n",
    "rows = cursorObj.fetchall()\n",
    " \n",
    "for row in rows:\n",
    "  print(row)"
   ]
  },
  {
   "cell_type": "markdown",
   "metadata": {},
   "source": [
    "Question 2 (20 points) : Write a SQL query that ranks all countries and leagues based on the total\n",
    "amount of total goals scored per game in the whole dataset. Sort them by the largest to the smallest\n",
    "amount of goals. Note: Read this carefully. The output of this query should be of the form:\n",
    "Country | League Name |Total Goals Scored"
   ]
  },
  {
   "cell_type": "code",
   "execution_count": null,
   "metadata": {},
   "outputs": [],
   "source": [
    "cursorObj.execute(\"SELECT Country.name as Country, League.name as [League Name], SUM(home_team_goal+away_team_goal)as [Total Goals Scored] FROM Country ,League, Match WHERE Country.id=match.country_id AND League.id=match.league_id GROUP BY Country,[League Name] ORDER BY [Total Goals Scored] DESC;\")\n",
    "\n",
    "rows = cursorObj.fetchall()\n",
    " \n",
    "for row in rows: \n",
    "  print(row)"
   ]
  },
  {
   "cell_type": "markdown",
   "metadata": {},
   "source": [
    "Question 3 (20 points) : Write a SQL query that ranks all teams by the average of all their attributes (not\n",
    "the players' attributes), sort them from best to worst. The output of this query should be of the form:\n",
    "Team Long Name | Average of Attributes"
   ]
  },
  {
   "cell_type": "code",
   "execution_count": null,
   "metadata": {},
   "outputs": [],
   "source": [
    "cursorObj.execute(\"SELECT team_long_name as [Team Long Name], AVG(buildUpPlaySpeed+ buildUpPlayDribbling+ buildUpPlayPassing+ chanceCreationPassing+ chanceCreationCrossing+ chanceCreationShooting+ defencePressure+ defenceAggression+ defenceTeamWidth)/9 as [Average of Attributes] FROM Team, Team_Attributes WHERE Team.team_api_id=Team_Attributes.team_api_id  GROUP BY team_long_name ORDER BY [Average of Attributes] DESC;\")\n",
    "\n",
    "rows = cursorObj.fetchall()\n",
    " \n",
    "for row in rows: \n",
    "  print(row)"
   ]
  },
  {
   "cell_type": "markdown",
   "metadata": {},
   "source": [
    "Question 4 (20 points) : Write a SQL query that ranks all teams by the average of their players'\n",
    "attributes, sort them by descending order displaying only the top 5. The output of this query should be\n",
    "of the form:\n",
    "Team Name| Number of Players | Player Attribute Average"
   ]
  },
  {
   "cell_type": "code",
   "execution_count": null,
   "metadata": {},
   "outputs": [],
   "source": [
    "#Not able to find relation between Team and players\n",
    "cursorObj.execute(\"SELECT team_long_name as [Team Name],22 as [Number of Players],avg(overall_rating+potential+crossing+finishing+heading_accuracy+short_passing+volleys+dribbling+curve+free_kick_accuracy+long_passing+ball_control+acceleration+sprint_speed+agility+reactions+balance+shot_power+jumping+stamina+strength+long_shots+aggression+interceptions+positioning+vision+penalties+marking+standing_tackle+sliding_tackle+gk_diving+gk_handling+gk_kicking+gk_positioning+gk_reflexes)/35 as [Player Attribute Average] FROM Team INNER JOIN Player_Attributes ON Team.id=Player_Attributes.id GROUP BY [Team Name] ORDER BY [Player Attribute Average] LIMIT 5;\")\n",
    "\n",
    "rows = cursorObj.fetchall()\n",
    " \n",
    "for row in rows: \n",
    "  print(row)"
   ]
  },
  {
   "cell_type": "markdown",
   "metadata": {},
   "source": [
    "Question 5 (40 points) : Write a SINGLE SQL query that finds the date that had the most goals scored on,\n",
    "per each different season and league. The output of this query should be of the form:\n",
    "Date (dd/mm/yy) | Season | League Name | Goals scored"
   ]
  },
  {
   "cell_type": "code",
   "execution_count": null,
   "metadata": {
    "scrolled": true
   },
   "outputs": [],
   "source": [
    "cursorObj.execute(\"SELECT strftime('%d/%m/%Y', date) as Date, Match.season as Season, League.name as [League Name],SUM(home_team_goal+away_team_goal) as [Goals Scored] FROM Match JOIN League ON league_id=League.id GROUP BY Date, Season, [League Name] ORDER BY [Goals Scored] DESC;\")\n",
    "rows = cursorObj.fetchall()\n",
    " \n",
    "for row in rows: \n",
    "  print(row)"
   ]
  },
  {
   "cell_type": "markdown",
   "metadata": {},
   "source": [
    "Graduate Student Task (40 points) : Write a SINGLE SQL query that finds the top 5 teams in terms of\n",
    "goals scored PER league for the 2008/2009 season. The output of this query should be of the form:\n",
    "Season | League | Rank | Team Name | Goals Scored"
   ]
  },
  {
   "cell_type": "code",
   "execution_count": null,
   "metadata": {},
   "outputs": [],
   "source": [
    "#Sorted Season | League | Team Name | Goals Scored but no Rank \n",
    "cursorObj.execute(\"SELECT season as Season, League.name as League, team_long_name as [Team Name], SUM(goals) as [Goals Scored] FROM League,(SELECT season,team_api_id,team_long_name,league_id, home_team_goal as goals FROM Team JOIN Match ON Team.team_api_id=Match.home_team_api_id WHERE season='2008/2009' Union SELECT season, team_api_id,team_long_name, league_id, away_team_goal as goals FROM Team JOIN Match ON Team.team_api_id=Match.away_team_api_id WHERE season='2008/2009')as p WHERE League.id=p.league_id GROUP BY team_long_name, League ORDER BY League, [Goals Scored] DESC;\")\n",
    "rows = cursorObj.fetchall()\n",
    " \n",
    "for row in rows: \n",
    "  print(row)"
   ]
  },
  {
   "cell_type": "code",
   "execution_count": null,
   "metadata": {},
   "outputs": [],
   "source": [
    "#Best try for getting Rank and filtering TOP 5 per league\n",
    "#Also tried Window function but not supported by this version of sqlite\n",
    "#ERROR\n",
    "cursorObj.execute(\"SELECT Season, [League], league_rank as Rank, [Team Name], [Goals Scored] FROM (SELECT season as Season, League.name as [League], team_long_name as [Team Name], SUM(goals) as [Goals Scored], @league_rank := IF(@current_league = [League], @league_rank + 1, 1) AS league_rank, @current_league:= [League] FROM League, (SELECT season,team_api_id,team_long_name,league_id, home_team_goal as goals FROM Team JOIN Match ON Team.team_api_id=Match.home_team_api_id WHERE season='2008/2009' Union SELECT season, team_api_id,team_long_name, league_id, away_team_goal as goals FROM Team JOIN Match ON Team.team_api_id=Match.away_team_api_id WHERE season='2008/2009')ORDER BY League, [Goals Scored] DESC) ranked WHERE Rank <= 5;\")\n",
    "rows = cursorObj.fetchall()\n",
    " \n",
    "for row in rows: \n",
    "  print(row)"
   ]
  }
 ],
 "metadata": {
  "kernelspec": {
   "display_name": "Python 3",
   "language": "python",
   "name": "python3"
  },
  "language_info": {
   "codemirror_mode": {
    "name": "ipython",
    "version": 3
   },
   "file_extension": ".py",
   "mimetype": "text/x-python",
   "name": "python",
   "nbconvert_exporter": "python",
   "pygments_lexer": "ipython3",
   "version": "3.6.5"
  }
 },
 "nbformat": 4,
 "nbformat_minor": 2
}
